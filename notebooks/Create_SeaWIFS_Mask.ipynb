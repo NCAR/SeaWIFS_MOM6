{
 "cells": [
  {
   "cell_type": "markdown",
   "metadata": {},
   "source": [
    "## Create a landmask for SeaWIFS climatology\n",
    "\n",
    "Author: Frank Bryan (bryan@ucar.edu ) "
   ]
  },
  {
   "cell_type": "code",
   "execution_count": null,
   "metadata": {},
   "outputs": [],
   "source": [
    "%load_ext autoreload\n",
    "%autoreload 2\n",
    "\n",
    "import numpy as np\n",
    "import matplotlib.pyplot as plt\n",
    "import xarray as xr\n",
    "\n",
    "import warnings\n",
    "warnings.filterwarnings(\"ignore\")\n",
    "\n",
    "%matplotlib inline"
   ]
  },
  {
   "cell_type": "code",
   "execution_count": null,
   "metadata": {},
   "outputs": [],
   "source": [
    "## Get the land/water mask\n",
    "path_in = '../ncfiles/'\n",
    "file_in = 'LandWater15ARC.nc'\n",
    "ds_hires = xr.open_dataset(path_in+file_in)\n",
    "ds_hires"
   ]
  },
  {
   "cell_type": "code",
   "execution_count": null,
   "metadata": {},
   "outputs": [],
   "source": [
    "## Get some SeaWIFS data (only need the coordinates)\n",
    "path_chl = '../ncfiles/'\n",
    "file_chl = 'S19972442010273.L3m_MC_CHL_chlor_a_9km.nc'\n",
    "ds_chl = xr.open_dataset(path_chl+file_chl)\n",
    "ds_chl"
   ]
  },
  {
   "cell_type": "code",
   "execution_count": null,
   "metadata": {},
   "outputs": [],
   "source": [
    "## Subsample the 15 arcsecond (1/240 deg) mask grid to the 1/12 deg SeaWIFS grid (approx)\n",
    "Mask_lores = ds_hires['LandWater'].sel(\n",
    "                lon=ds_chl['lon'],\n",
    "                lat=ds_chl['lat'],method='nearest').astype('int')"
   ]
  },
  {
   "cell_type": "code",
   "execution_count": null,
   "metadata": {},
   "outputs": [],
   "source": [
    "## Create a corresponding mask of all ocean areas (shallow=0,shelf=6,deep=7)\n",
    "Ocean_lores = xr.where(Mask_lores==0,1,0)\n",
    "Ocean_lores = xr.where(Mask_lores>=6,1,Ocean_lores)\n",
    "Ocean_lores = Ocean_lores.astype('int')\n",
    "\n",
    "## Create the reciprocal land mask\n",
    "Land_lores = (1 - Ocean_lores).astype('int')"
   ]
  },
  {
   "cell_type": "code",
   "execution_count": null,
   "metadata": {},
   "outputs": [],
   "source": [
    "# Put the masks in a dataset\n",
    "ds_out = xr.Dataset({\"LandWater\" : Mask_lores})\n",
    "\n",
    "ds_out['Ocean'] = Ocean_lores\n",
    "ds_out['Ocean'].attrs['long_name'] = 'Ocean Mask'\n",
    "ds_out['Ocean'].attrs['flag_values'] = '0, 1'\n",
    "ds_out['Ocean'].attrs['flag_meanings'] = '0=Land or Inland Water, 1=Ocean'\n",
    "\n",
    "ds_out['Land'] = Land_lores\n",
    "ds_out['Land'].attrs['long_name'] = 'Land Mask'\n",
    "ds_out['Land'].attrs['flag_values'] = '0, 1'\n",
    "ds_out['Land'].attrs['flag_meanings'] = '1=Land or Inland Water, 0=Ocean'"
   ]
  },
  {
   "cell_type": "code",
   "execution_count": null,
   "metadata": {},
   "outputs": [],
   "source": [
    "# Tweak the coordinates to agree exactly with SeaWIFS \n",
    "ds_out.coords['lon'] = ds_chl['lon']\n",
    "ds_out.coords['lat'] = ds_chl['lat']"
   ]
  },
  {
   "cell_type": "code",
   "execution_count": null,
   "metadata": {},
   "outputs": [],
   "source": [
    "# Add a history attribute\n",
    "from datetime import date\n",
    "today = date.today()\n",
    "dstr = today.strftime(\"%Y-%m-%d\")\n",
    "astr = 'Created ' + dstr + ' from input file ' + path_in+file_in\n",
    "astr\n",
    "ds_out.attrs['history'] = astr"
   ]
  },
  {
   "cell_type": "code",
   "execution_count": null,
   "metadata": {},
   "outputs": [],
   "source": [
    "ds_out"
   ]
  },
  {
   "cell_type": "code",
   "execution_count": null,
   "metadata": {},
   "outputs": [],
   "source": [
    "ds_out['Ocean'].plot(robust=True)"
   ]
  },
  {
   "cell_type": "code",
   "execution_count": null,
   "metadata": {},
   "outputs": [],
   "source": [
    "fileout = '../ncfiles/LandWater_SeaWIFS.nc'\n",
    "ds_out.to_netcdf(path=fileout)"
   ]
  }
 ],
 "metadata": {
  "kernelspec": {
   "display_name": "analysis",
   "language": "python",
   "name": "analysis"
  },
  "language_info": {
   "codemirror_mode": {
    "name": "ipython",
    "version": 3
   },
   "file_extension": ".py",
   "mimetype": "text/x-python",
   "name": "python",
   "nbconvert_exporter": "python",
   "pygments_lexer": "ipython3",
   "version": "3.7.3"
  }
 },
 "nbformat": 4,
 "nbformat_minor": 4
}
