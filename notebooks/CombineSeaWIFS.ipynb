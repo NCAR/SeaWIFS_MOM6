{
 "cells": [
  {
   "cell_type": "markdown",
   "metadata": {},
   "source": [
    "## Combine Climatological Monthly SeaWIFS data into annual file and fill missing values\n",
    "\n",
    "Author: Frank Bryan (bryan@ucar.edu ) "
   ]
  },
  {
   "cell_type": "code",
   "execution_count": null,
   "metadata": {},
   "outputs": [],
   "source": [
    "%load_ext autoreload\n",
    "%autoreload 2\n",
    "import time\n",
    "import numpy as np\n",
    "import xarray as xr\n",
    "\n",
    "import matplotlib.pyplot as plt\n",
    "import matplotlib.colors as colors\n",
    "import cmocean\n",
    "\n",
    "%set_env CESMDATAROOT=/glade/scratch/bryan/tmp\n",
    "from pop_tools import fill\n",
    "\n",
    "import warnings\n",
    "warnings.filterwarnings(\"ignore\")\n",
    "\n",
    "%matplotlib inline"
   ]
  },
  {
   "cell_type": "code",
   "execution_count": null,
   "metadata": {},
   "outputs": [],
   "source": [
    "import dask\n",
    "dask.config.set({'distributed.dashboard.link': '/proxy/{port}/status'})"
   ]
  },
  {
   "cell_type": "code",
   "execution_count": null,
   "metadata": {},
   "outputs": [],
   "source": [
    "from ncar_jobqueue import NCARCluster\n",
    "from dask.distributed import Client\n",
    "cluster = NCARCluster(project='NCGD0011')\n",
    "\n",
    "cluster.scale(2)\n",
    "client = Client(cluster)\n",
    "client\n",
    "#print(cluster.dashboard_link)"
   ]
  },
  {
   "cell_type": "code",
   "execution_count": null,
   "metadata": {},
   "outputs": [],
   "source": [
    "# File locations\n",
    "path_in = '../ncfiles/'\n",
    "\n",
    "file_ext_in = '.L3m_MC_CHL_chlor_a_9km.nc' # SeaWIFS 9km product\n",
    "file_ext_out = '.L3m_MC_CHL_chlor_a_0.25deg.nc'\n",
    "var_name = 'chlor_a'\n",
    "\n",
    "file_mask = 'LandWater_SeaWIFS.nc'\n",
    "ds_mask = xr.open_dataset(path_in+file_mask)\n",
    "\n",
    "path_out = path_in\n",
    "file_out = 'SeaWIFS' + file_ext_out"
   ]
  },
  {
   "cell_type": "code",
   "execution_count": null,
   "metadata": {},
   "outputs": [],
   "source": [
    "# Parameters for median filter\n",
    "filt_size = 3\n",
    "\n",
    "# Parameters for fill procedure\n",
    "eps_std = 1.0e-5\n",
    "nmax_std = 1000\n",
    "omega_best=1.96"
   ]
  },
  {
   "cell_type": "code",
   "execution_count": null,
   "metadata": {},
   "outputs": [],
   "source": [
    "# Dates for month boundaries\n",
    "dbeg = np.array([1, 32, 60, 91, 121, 152, 182, 213, 244, 274, 305, 335])\n",
    "dend = np.zeros_like(dbeg)\n",
    "dend[:-1] = dbeg[1:]-1\n",
    "dend[-1] = 365\n",
    "dmid = 0.5*(dbeg + dend)\n",
    "\n",
    "sybeg = ['1998','1998','1998','1998','1998','1998','1998','1998','1997','1997','1997','1997']\n",
    "syend= 12*['2010']\n",
    "\n",
    "def gen_datestr(ybeg,dbeg,yend,dend) :\n",
    "    datestr = '{:s}{:03d}{:s}{:03d}'.format(ybeg,dbeg,yend,dend)\n",
    "    return datestr"
   ]
  },
  {
   "cell_type": "code",
   "execution_count": null,
   "metadata": {},
   "outputs": [],
   "source": [
    "# Get the first file to grab the dimensions, coordinates\n",
    "file_in = 'S' + gen_datestr(sybeg[0],dbeg[0],syend[0],dend[0]) + file_ext_in\n",
    "print('Input file: ',file_in)\n",
    "ds0 = xr.open_dataset(path_in+file_in)\n",
    "\n",
    "nlat=ds0.dims['lat']\n",
    "lat = ds0['lat']\n",
    "\n",
    "nlon=ds0.dims['lon']\n",
    "lon = ds0['lon']\n",
    "\n",
    "ntime=12\n",
    "time = xr.DataArray(dmid,dims=(\"time\",),\n",
    "                    attrs={\"long_name\":'Mid-Month Day of Climatological Year',\n",
    "                           \"units\":'days'})"
   ]
  },
  {
   "cell_type": "code",
   "execution_count": null,
   "metadata": {},
   "outputs": [],
   "source": [
    "# Set up masking arrays\n",
    "OceanArea = ds_mask['Ocean'].astype('bool').compute() # area we want to fill\n",
    "LandArea = ds_mask['Land'].astype('bool').compute() # area with values we don't want used\n",
    "Everywhere = xr.ones_like(LandArea).astype('bool')"
   ]
  },
  {
   "cell_type": "code",
   "execution_count": null,
   "metadata": {},
   "outputs": [],
   "source": [
    "# Sample the data to get reduced grid lat/lon and masks\n",
    "chl_c = ds0[var_name].coarsen(lon=filt_size,lat=filt_size,coord_func='median',keep_attrs=True).median().compute()\n",
    "\n",
    "lon_c = chl_c.lon\n",
    "nlon_c = lon_c.size\n",
    "lat_c = chl_c.lat\n",
    "nlat_c = lat_c.size\n",
    "\n",
    "land_c = LandArea.sel(lon=lon_c,lat=lat_c,method='nearest').compute()\n",
    "ocn_c = OceanArea.sel(lon=lon_c,lat=lat_c,method='nearest').compute()\n",
    "all_c = xr.ones_like(chl_c).astype('bool')  # everywhere on the coarse grid    # Set a bogus value for the north pole"
   ]
  },
  {
   "cell_type": "code",
   "execution_count": null,
   "metadata": {},
   "outputs": [],
   "source": [
    "# Create a DataArray array to hold the input data\n",
    "Chl_c = xr.DataArray(np.zeros((ntime,nlat_c,nlon_c)),\n",
    "                        dims=(\"time\",\"lat\",\"lon\"),\n",
    "                        coords={\"time\":time,\"lat\":lat_c,\"lon\":lon_c}\n",
    "                       )\n",
    "Chl_cf = xr.ones_like(Chl_c)\n",
    "Chl_cfm = xr.ones_like(Chl_c)"
   ]
  },
  {
   "cell_type": "code",
   "execution_count": null,
   "metadata": {},
   "outputs": [],
   "source": [
    "%%time\n",
    "# Read the SeaWIFS data, coarsen, fill NaNs and store in DataArray\n",
    "for n,d in enumerate(dbeg):\n",
    "    file_in = 'S' + gen_datestr(sybeg[n],dbeg[n],syend[n],dend[n]) + file_ext_in\n",
    "    print(n,file_in)\n",
    "    ds=xr.open_dataset(path_in+file_in)\n",
    "    \n",
    "    # Mask out values in lakes and inland waters\n",
    "    Chl_src = xr.where(LandArea,np.nan,ds[var_name])\n",
    "    \n",
    "    # Coarsen with a median filter\n",
    "    print(' ... coarsening')\n",
    "    c = Chl_src.coarsen(lon=filt_size,lat=filt_size,coord_func='median',keep_attrs=True).median().compute()\n",
    "\n",
    "    # Fill NaNs in ocean areas\n",
    "    print(' ... filling')\n",
    "    cf = fill.lateral_fill(c.compute(),all_c,\n",
    "            tol=eps_std,rc=omega_best,max_iter=nmax_std,use_sor=True)\n",
    "    \n",
    "    print(' ... masking')\n",
    "    cfm = xr.where(land_c,np.nan,cf)\n",
    "    \n",
    "    # Put result in 3D array\n",
    "    Chl_c.loc[dict(time=time[n])] = c\n",
    "    Chl_cf.loc[dict(time=time[n])] = cf\n",
    "    Chl_cfm.loc[dict(time=time[n])] = cfm\n",
    "    \n",
    "Chl_c.attrs = ds0[var_name].attrs\n",
    "Chl_cf.attrs = ds0[var_name].attrs\n",
    "Chl_cfm.attrs = ds0[var_name].attrs"
   ]
  },
  {
   "cell_type": "code",
   "execution_count": null,
   "metadata": {},
   "outputs": [],
   "source": [
    "ds_out = xr.Dataset({var_name:Chl_c,\n",
    "                     var_name+'_cf':Chl_cf,\n",
    "                     var_name+'_cfm':Chl_cfm,\n",
    "                     'ocean_mask':ocn_c,\n",
    "                     'land_mask':land_c})\n",
    "ds_out.to_netcdf(path_out+file_out)"
   ]
  },
  {
   "cell_type": "code",
   "execution_count": null,
   "metadata": {},
   "outputs": [],
   "source": [
    "clev_exp = np.linspace(-2,1,num=31)\n",
    "clev_exp = np.power(10, clev_exp)\n",
    "\n",
    "cm = cmocean.cm.algae\n",
    "\n",
    "fig,ax=plt.subplots(nrows=2,ncols=2,sharex=True,sharey=True,\n",
    "                    figsize=(12,7),constrained_layout=True)\n",
    "[axul,axur,axll,axlr] = ax.flatten()\n",
    "fig.suptitle('SeaWIFS Chlorophyll-A Climatology')\n",
    "\n",
    "cf0=axul.contourf(lon_c,lat_c,Chl_cfm.isel(time=0),\n",
    "                levels=clev_exp,norm=colors.LogNorm(),cmap=cm)\n",
    "axul.set_title('January')\n",
    "axul.set_xlabel('Longitude')\n",
    "axul.set_ylabel('Latitude')\n",
    "\n",
    "cf1=axur.contourf(lon_c,lat_c,Chl_cfm.isel(time=3),\n",
    "                   levels=clev_exp,norm=colors.LogNorm(),cmap=cm)\n",
    "axur.set_title('April')\n",
    "axur.set_xlabel('Longitude')\n",
    "\n",
    "cf2=axll.contourf(lon_c,lat_c,Chl_cfm.isel(time=6),\n",
    "                   levels=clev_exp,norm=colors.LogNorm(),cmap=cm)\n",
    "axll.set_title('July')\n",
    "axul.set_ylabel('Latitude')\n",
    "axll.set_xlabel('Longitude')\n",
    "\n",
    "cf3=axlr.contourf(lon_c,lat_c,Chl_cfm.isel(time=9),\n",
    "                   levels=clev_exp,norm=colors.LogNorm(),cmap=cm)\n",
    "axlr.set_title('October')\n",
    "axlr.set_xlabel('Longitude')\n",
    "\n",
    "\n",
    "cbar = fig.colorbar(cf0)\n",
    "cbar.ax.set_ylabel('mg / m$^3$')"
   ]
  },
  {
   "cell_type": "code",
   "execution_count": null,
   "metadata": {},
   "outputs": [],
   "source": []
  }
 ],
 "metadata": {
  "kernelspec": {
   "display_name": "analysis",
   "language": "python",
   "name": "analysis"
  },
  "language_info": {
   "codemirror_mode": {
    "name": "ipython",
    "version": 3
   },
   "file_extension": ".py",
   "mimetype": "text/x-python",
   "name": "python",
   "nbconvert_exporter": "python",
   "pygments_lexer": "ipython3",
   "version": "3.7.3"
  }
 },
 "nbformat": 4,
 "nbformat_minor": 4
}
